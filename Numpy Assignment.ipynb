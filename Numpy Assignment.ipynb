{
 "cells": [
  {
   "cell_type": "markdown",
   "metadata": {},
   "source": [
    "Write a function to find moving average in an array over a window:\n",
    "Test it over [3, 5, 7, 2, 8, 10, 11, 65, 72, 81, 99, 100, 150] and window of 3."
   ]
  },
  {
   "cell_type": "code",
   "execution_count": 2,
   "metadata": {},
   "outputs": [],
   "source": [
    "import numpy as np"
   ]
  },
  {
   "cell_type": "code",
   "execution_count": 4,
   "metadata": {},
   "outputs": [
    {
     "name": "stdout",
     "output_type": "stream",
     "text": [
      "The ouput for the increasing boolean argument:\n",
      "[[  1   1   1   1]\n",
      " [  1   2   4   8]\n",
      " [  1   3   9  27]\n",
      " [  1   4  16  64]\n",
      " [  1   5  25 125]]\n",
      "The ouput for the decreasing boolean argument::\n",
      "[[   1    1    1    1    1    1]\n",
      " [  32   16    8    4    2    1]\n",
      " [ 243   81   27    9    3    1]\n",
      " [1024  256   64   16    4    1]\n",
      " [3125  625  125   25    5    1]]\n"
     ]
    }
   ],
   "source": [
    "input_vector = np.array([1, 2, 3, 4, 5]) \n",
    "  \n",
    "output_matrix_inc = np.vander(input_vector,N=4, increasing = True) \n",
    "output_matrix_dec = np.vander(input_vector,N=6, increasing = False)   \n",
    "print (\"The ouput for the increasing boolean argument:\")\n",
    "print(output_matrix_inc)\n",
    "print (\"The ouput for the decreasing boolean argument::\")\n",
    "print(output_matrix_dec)"
   ]
  },
  {
   "cell_type": "code",
   "execution_count": 3,
   "metadata": {},
   "outputs": [
    {
     "name": "stdout",
     "output_type": "stream",
     "text": [
      "The moving average in an array over a window :  [5.0, 4.67, 5.67, 6.67, 9.67, 28.67, 49.33, 72.67, 84.0, 93.33, 116.33]\n"
     ]
    }
   ],
   "source": [
    "def mov_avg(list_x,k):\n",
    "    out= []\n",
    "    i = 0\n",
    "    z = len(list_x)-k+1\n",
    "    while i < z:\n",
    "        b = list_x[i : i + k]\n",
    "        a = round(sum(b)/ k,2)\n",
    "        i+=1\n",
    "        out.append(a)\n",
    "    return out\n",
    "list_x = [3, 5, 7, 2, 8, 10, 11, 65, 72, 81, 99, 100, 150]\n",
    "k=3\n",
    "y=np.array(list_x)\n",
    "result = mov_avg(y,k)\n",
    "print(\"The moving average in an array over a window : \" , result)"
   ]
  },
  {
   "cell_type": "code",
   "execution_count": null,
   "metadata": {},
   "outputs": [],
   "source": []
  },
  {
   "cell_type": "code",
   "execution_count": null,
   "metadata": {},
   "outputs": [],
   "source": []
  }
 ],
 "metadata": {
  "kernelspec": {
   "display_name": "Python 3",
   "language": "python",
   "name": "python3"
  },
  "language_info": {
   "codemirror_mode": {
    "name": "ipython",
    "version": 3
   },
   "file_extension": ".py",
   "mimetype": "text/x-python",
   "name": "python",
   "nbconvert_exporter": "python",
   "pygments_lexer": "ipython3",
   "version": "3.7.4"
  }
 },
 "nbformat": 4,
 "nbformat_minor": 2
}
