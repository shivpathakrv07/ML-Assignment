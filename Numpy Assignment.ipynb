{
 "cells": [
  {
   "cell_type": "markdown",
   "metadata": {},
   "source": [
    "Write a function so that the columns of the output matrix are powers of the input\n",
    "vector.\n",
    "The order of the powers is determined by the increasing boolean argument. Specifically, when\n",
    "increasing is False, the i-th output column is the input vector raised element-wise to the power\n",
    "of N - i - 1.\n",
    "\n",
    "Problem Statement 2:\n",
    "Given a sequence of n values x1, x2, ..., xn and a window size k>0, the k-th moving average of\n",
    "the given sequence is defined as follows:\n",
    "The moving average sequence has n-k+1 elements as shown below.\n",
    "The moving averages with k=4 of a ten-value sequence (n=10) is shown below\n",
    "i 1 2 3 4 5 6 7 8 9 10\n",
    "===== == == == == == == == == == ==\n",
    "Input 10 20 30 40 50 60 70 80 90 100\n",
    "y1 25 = (10+20+30+40)/4\n",
    "y2 35 = (20+30+40+50)/4\n",
    "y3 45 = (30+40+50+60)/4\n",
    "y4 55 = (40+50+60+70)/4\n",
    "y5 65 = (50+60+70+80)/4\n",
    "y6 75 = (60+70+80+90)/4\n",
    "y7 85 = (70+80+90+100)/4\n",
    "Thus, the moving average sequence has n-k+1=10-4+1=7 values."
   ]
  },
  {
   "cell_type": "code",
   "execution_count": 5,
   "metadata": {},
   "outputs": [],
   "source": [
    "import numpy as np"
   ]
  },
  {
   "cell_type": "code",
   "execution_count": 6,
   "metadata": {},
   "outputs": [
    {
     "name": "stdout",
     "output_type": "stream",
     "text": [
      "The ouput for the increasing boolean argument:\n",
      "[[  1   1   1   1]\n",
      " [  1   2   4   8]\n",
      " [  1   3   9  27]\n",
      " [  1   4  16  64]\n",
      " [  1   5  25 125]]\n",
      "The ouput for the decreasing boolean argument::\n",
      "[[   1    1    1    1    1    1]\n",
      " [  32   16    8    4    2    1]\n",
      " [ 243   81   27    9    3    1]\n",
      " [1024  256   64   16    4    1]\n",
      " [3125  625  125   25    5    1]]\n"
     ]
    }
   ],
   "source": [
    "input_vector = np.array([1, 2, 3, 4, 5]) \n",
    "  \n",
    "output_matrix_inc = np.vander(input_vector,N=4, increasing = True) \n",
    "output_matrix_dec = np.vander(input_vector,N=6, increasing = False)   \n",
    "print (\"The ouput for the increasing boolean argument:\")\n",
    "print(output_matrix_inc)\n",
    "print (\"The ouput for the decreasing boolean argument::\")\n",
    "print(output_matrix_dec)"
   ]
  },
  {
   "cell_type": "markdown",
   "metadata": {},
   "source": [
    "Write a function to find moving average in an array over a window:\n",
    "Test it over [3, 5, 7, 2, 8, 10, 11, 65, 72, 81, 99, 100, 150] and window of 3."
   ]
  },
  {
   "cell_type": "code",
   "execution_count": 7,
   "metadata": {},
   "outputs": [
    {
     "name": "stdout",
     "output_type": "stream",
     "text": [
      "The moving average in an array over a window :  [5.0, 4.67, 5.67, 6.67, 9.67, 28.67, 49.33, 72.67, 84.0, 93.33, 116.33]\n"
     ]
    }
   ],
   "source": [
    "def mov_avg(list_x,k):\n",
    "    out= []\n",
    "    i = 0\n",
    "    z = len(list_x)-k+1\n",
    "    while i < z:\n",
    "        b = list_x[i : i + k]\n",
    "        a = round(sum(b)/ k,2)\n",
    "        i+=1\n",
    "        out.append(a)\n",
    "    return out\n",
    "list_x = [3, 5, 7, 2, 8, 10, 11, 65, 72, 81, 99, 100, 150]\n",
    "k=3\n",
    "y=np.array(list_x)\n",
    "result = mov_avg(y,k)\n",
    "print(\"The moving average in an array over a window : \" , result)"
   ]
  },
  {
   "cell_type": "code",
   "execution_count": null,
   "metadata": {},
   "outputs": [],
   "source": []
  },
  {
   "cell_type": "code",
   "execution_count": null,
   "metadata": {},
   "outputs": [],
   "source": []
  }
 ],
 "metadata": {
  "kernelspec": {
   "display_name": "Python 3",
   "language": "python",
   "name": "python3"
  },
  "language_info": {
   "codemirror_mode": {
    "name": "ipython",
    "version": 3
   },
   "file_extension": ".py",
   "mimetype": "text/x-python",
   "name": "python",
   "nbconvert_exporter": "python",
   "pygments_lexer": "ipython3",
   "version": "3.7.4"
  }
 },
 "nbformat": 4,
 "nbformat_minor": 2
}
