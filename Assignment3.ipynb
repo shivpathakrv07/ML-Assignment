{
  "nbformat": 4,
  "nbformat_minor": 0,
  "metadata": {
    "colab": {
      "name": "Assignment3.ipynb",
      "provenance": [],
      "authorship_tag": "ABX9TyPQzNm2cibNvcKZxkrite81",
      "include_colab_link": true
    },
    "kernelspec": {
      "name": "python3",
      "display_name": "Python 3"
    }
  },
  "cells": [
    {
      "cell_type": "markdown",
      "metadata": {
        "id": "view-in-github",
        "colab_type": "text"
      },
      "source": [
        "<a href=\"https://colab.research.google.com/github/shivpathakrv07/ML-Assignment/blob/master/Assignment3.ipynb\" target=\"_parent\"><img src=\"https://colab.research.google.com/assets/colab-badge.svg\" alt=\"Open In Colab\"/></a>"
      ]
    },
    {
      "cell_type": "markdown",
      "metadata": {
        "id": "qB0iHQd8dKi9",
        "colab_type": "text"
      },
      "source": [
        "1.1 Write a Python Program to implement your own myreduce() function which works exactly\n",
        "like Python's built-in function reduce()\n"
      ]
    },
    {
      "cell_type": "code",
      "metadata": {
        "id": "ktv9-xoKc__Y",
        "colab_type": "code",
        "outputId": "d9123c64-8d5a-445e-c057-0225b5a289ab",
        "colab": {
          "base_uri": "https://localhost:8080/",
          "height": 34
        }
      },
      "source": [
        "def myreduce(func,numbers):\n",
        "  result=numbers[0]\n",
        "  for number in numbers[1:]:\n",
        "    result=func(result,number)\n",
        "\n",
        "  return result\n",
        "\n",
        "myreduce(lambda x,y:x+y,[1,2,3,4,5])\n",
        "  "
      ],
      "execution_count": 0,
      "outputs": [
        {
          "output_type": "execute_result",
          "data": {
            "text/plain": [
              "15"
            ]
          },
          "metadata": {
            "tags": []
          },
          "execution_count": 62
        }
      ]
    },
    {
      "cell_type": "markdown",
      "metadata": {
        "id": "PcSRxoDxdJD2",
        "colab_type": "text"
      },
      "source": [
        "1.2 Write a Python program to implement your own myfilter() function which works exactly\n",
        "like Python's built-in function filter()"
      ]
    },
    {
      "cell_type": "code",
      "metadata": {
        "id": "YkhwVZNRkS8n",
        "colab_type": "code",
        "outputId": "c688e93b-839b-47ea-9a0f-03a3433eeeb5",
        "colab": {
          "base_uri": "https://localhost:8080/",
          "height": 34
        }
      },
      "source": [
        "def myfilter(func, numbers):\n",
        "  result = []\n",
        "  for number in numbers:\n",
        "    if func(number):\n",
        "      result.append(number)\n",
        "  \n",
        "  return result\n",
        "\n",
        "a=[1,2,3,4,5,6]\n",
        "myfilter(lambda x:(x>=2),a)"
      ],
      "execution_count": 0,
      "outputs": [
        {
          "output_type": "execute_result",
          "data": {
            "text/plain": [
              "[2, 3, 4, 5, 6]"
            ]
          },
          "metadata": {
            "tags": []
          },
          "execution_count": 68
        }
      ]
    },
    {
      "cell_type": "code",
      "metadata": {
        "id": "THJWkZvq8PXF",
        "colab_type": "code",
        "colab": {}
      },
      "source": [
        "2.  Implement List comprehensions to produce the following lists. Write List comprehensions to produce the following Lists\n",
        "\n",
        "\n",
        "\n",
        "1.['x', 'xx', 'xxx', 'xxxx', 'y', 'yy', 'yyy', 'yyyy', 'z', 'zz', 'zzz', 'zzzz']\n",
        "2.['x', 'y', 'z', 'xx', 'yy', 'zz', 'xxx', 'yyy', 'zzz', 'xxxx', 'yyyy', 'zzzz']\n",
        "3.[[2], [3], [4], [3], [4], [5], [4], [5], [6]] [[2, 3, 4, 5], [3, 4, 5, 6],\n",
        "[4, 5, 6, 7], [5, 6, 7, 8]]\n",
        "4.[(1, 1), (2, 1), (3, 1), (1, 2), (2, 2), (3, 2), (1, 3), (2, 3), (3, 3)]\n"
      ],
      "execution_count": 0,
      "outputs": []
    },
    {
      "cell_type": "code",
      "metadata": {
        "id": "EjbF8cPb789T",
        "colab_type": "code",
        "outputId": "06eafd0a-5a03-458c-ebd5-e962b4047c41",
        "colab": {
          "base_uri": "https://localhost:8080/",
          "height": 102
        }
      },
      "source": [
        "input_list = ['x','y','z']\n",
        "result = [ item*num for item in input_list for num in range(1,5)  ]\n",
        "print(\"['x','y','z'] => \" +   str(result))\n",
        "\n",
        "input_list = ['x','y','z']\n",
        "result = [ item*num for num in range(1,5) for item in input_list  ]\n",
        "print(\"['x','y','z'] => \" +   str(result))\n",
        "\n",
        "input_list = [2,3,4]\n",
        "result = [ [item+num] for item in input_list for num in range(0,3)]\n",
        "print(\"[2,3,4] =>\" +  str(result))\n",
        "\n",
        "input_list = [2,3,4,5]\n",
        "result = [ [item+num for item in input_list] for num in range(0,4)  ]\n",
        "print(\"[2,3,4,5] =>\" +  str(result))\n",
        "\n",
        "input_list=[1,2,3]\n",
        "result = [ (b,a) for a in input_list for b in input_list]\n",
        "print(\"[1,2,3] =>\" +  str(result))\n"
      ],
      "execution_count": 4,
      "outputs": [
        {
          "output_type": "stream",
          "text": [
            "['x','y','z'] => ['x', 'xx', 'xxx', 'xxxx', 'y', 'yy', 'yyy', 'yyyy', 'z', 'zz', 'zzz', 'zzzz']\n",
            "['x','y','z'] => ['x', 'y', 'z', 'xx', 'yy', 'zz', 'xxx', 'yyy', 'zzz', 'xxxx', 'yyyy', 'zzzz']\n",
            "[2,3,4] =>[[2], [3], [4], [3], [4], [5], [4], [5], [6]]\n",
            "[2,3,4,5] =>[[2, 3, 4, 5], [3, 4, 5, 6], [4, 5, 6, 7], [5, 6, 7, 8]]\n",
            "[1,2,3] =>[(1, 1), (2, 1), (3, 1), (1, 2), (2, 2), (3, 2), (1, 3), (2, 3), (3, 3)]\n"
          ],
          "name": "stdout"
        }
      ]
    }
  ]
}